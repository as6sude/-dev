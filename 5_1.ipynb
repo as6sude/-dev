{
  "nbformat": 4,
  "nbformat_minor": 0,
  "metadata": {
    "colab": {
      "provenance": []
    },
    "kernelspec": {
      "name": "python3",
      "display_name": "Python 3"
    },
    "language_info": {
      "name": "python"
    }
  },
  "cells": [
    {
      "cell_type": "markdown",
      "source": [
        "1"
      ],
      "metadata": {
        "id": "3bfxRPPQiBeQ"
      }
    },
    {
      "cell_type": "code",
      "execution_count": 1,
      "metadata": {
        "colab": {
          "base_uri": "https://localhost:8080/"
        },
        "id": "X5VqhhAnhrjW",
        "outputId": "ea940447-b2a2-4e96-f579-be33adcdc9fe"
      },
      "outputs": [
        {
          "output_type": "stream",
          "name": "stdout",
          "text": [
            "Array'in boyutu: (5,)\n",
            "Array'in eleman sayısı: 5\n"
          ]
        }
      ],
      "source": [
        "import numpy as np\n",
        "\n",
        "array = np.array([1, 2, 3, 4, 5], dtype=int)\n",
        "\n",
        "print(\"Array'in boyutu:\", array.shape)\n",
        "print(\"Array'in eleman sayısı:\", array.size)\n"
      ]
    },
    {
      "cell_type": "code",
      "source": [
        "array_reshaped = array.reshape(1, 5)\n",
        "print(\"Yeniden şekillendirilmiş array boyutu:\", array_reshaped.shape)"
      ],
      "metadata": {
        "colab": {
          "base_uri": "https://localhost:8080/"
        },
        "id": "sQiv9XMch74x",
        "outputId": "1478e72b-64a8-437b-82c9-8db62ad09863"
      },
      "execution_count": 2,
      "outputs": [
        {
          "output_type": "stream",
          "name": "stdout",
          "text": [
            "Yeniden şekillendirilmiş array boyutu: (1, 5)\n"
          ]
        }
      ]
    },
    {
      "cell_type": "markdown",
      "source": [
        "2"
      ],
      "metadata": {
        "id": "l4KFEc64iDX-"
      }
    },
    {
      "cell_type": "code",
      "source": [
        "import numpy as np\n",
        "\n",
        "array_2d = np.array([[1, 2, 6, 7], [4, 3, 9, 5]])\n",
        "array_3d = np.array([[[7, 5, 14], [21, 8, 11]], [[8, 6, 20], [14, 3, 9]]])\n",
        "\n",
        "print(\"İki boyutlu array boyutu:\", array_2d.shape)\n",
        "print(\"İki boyutlu array eleman sayısı:\", array_2d.size)\n",
        "print(\"İki boyutlu array satır sayısı:\", array_2d.shape[0])\n",
        "print(\"İki boyutlu array sütun sayısı:\", array_2d.shape[1])\n",
        "\n",
        "print(\"\\nÜç boyutlu array boyutu:\", array_3d.shape)\n",
        "print(\"Üç boyutlu array eleman sayısı:\", array_3d.size)\n",
        "print(\"Üç boyutlu array ilk boyut:\", array_3d.shape[0])\n",
        "print(\"Üç boyutlu array ikinci boyut:\", array_3d.shape[1])\n",
        "print(\"Üç boyutlu array üçüncü boyut:\", array_3d.shape[2])\n"
      ],
      "metadata": {
        "colab": {
          "base_uri": "https://localhost:8080/"
        },
        "id": "UJjFywvOh_u3",
        "outputId": "734bab68-1186-4c82-9752-ce168ee9b732"
      },
      "execution_count": 4,
      "outputs": [
        {
          "output_type": "stream",
          "name": "stdout",
          "text": [
            "İki boyutlu array boyutu: (2, 4)\n",
            "İki boyutlu array eleman sayısı: 8\n",
            "İki boyutlu array satır sayısı: 2\n",
            "İki boyutlu array sütun sayısı: 4\n",
            "\n",
            "Üç boyutlu array boyutu: (2, 2, 3)\n",
            "Üç boyutlu array eleman sayısı: 12\n",
            "Üç boyutlu array ilk boyut: 2\n",
            "Üç boyutlu array ikinci boyut: 2\n",
            "Üç boyutlu array üçüncü boyut: 3\n"
          ]
        }
      ]
    },
    {
      "cell_type": "markdown",
      "source": [
        "3"
      ],
      "metadata": {
        "id": "X01veIyOilA1"
      }
    },
    {
      "cell_type": "code",
      "source": [
        "import numpy as np\n",
        "\n",
        "array_2d = np.array([[1, 2, 6, 7], [4, 3, 9, 5]])\n",
        "array_3d = np.array([[[7, 5, 14], [21, 8, 11]], [[8, 6, 20], [14, 3, 9]]])\n",
        "\n",
        "print(\"İki boyutlu array'deki 2 elemanı:\", array_2d[0, 1])\n",
        "print(\"İki boyutlu array'deki 7 elemanı:\", array_2d[0, 3])\n",
        "print(\"Üç boyutlu array'deki 9 elemanı:\", array_3d[1, 1, 2])\n",
        "print(\"Üç boyutlu array'deki 5 elemanı:\", array_3d[0, 0, 1])\n"
      ],
      "metadata": {
        "colab": {
          "base_uri": "https://localhost:8080/"
        },
        "id": "zHJpciK3iaPP",
        "outputId": "a9bee4ba-4f6d-4f01-8364-26455c746a29"
      },
      "execution_count": 5,
      "outputs": [
        {
          "output_type": "stream",
          "name": "stdout",
          "text": [
            "İki boyutlu array'deki 2 elemanı: 2\n",
            "İki boyutlu array'deki 7 elemanı: 7\n",
            "Üç boyutlu array'deki 9 elemanı: 9\n",
            "Üç boyutlu array'deki 5 elemanı: 5\n"
          ]
        }
      ]
    },
    {
      "cell_type": "markdown",
      "source": [
        "4"
      ],
      "metadata": {
        "id": "vS346NPainl3"
      }
    },
    {
      "cell_type": "code",
      "source": [
        "import numpy as np\n",
        "\n",
        "array_2d = np.array([[1, 2, 6, 7], [4, 3, 9, 5]])\n",
        "array_3d = np.array([[[7, 5, 14], [21, 8, 11]], [[8, 6, 20], [14, 3, 9]]])\n",
        "\n",
        "print(\"İki boyutlu array'deki 2 ve 6 elemanları:\", array_2d[0, 1:3])\n",
        "print(\"İki boyutlu array'deki 3, 9, 5 elemanları:\", array_2d[1, 1:4])\n",
        "print(\"Üç boyutlu array'deki 21, 8, 11 elemanları:\", array_3d[0, 1, :])\n",
        "print(\"Üç boyutlu array'deki 6, 20 elemanları:\", array_3d[1, 0, :2])\n"
      ],
      "metadata": {
        "colab": {
          "base_uri": "https://localhost:8080/"
        },
        "id": "NXUSIe95ioRo",
        "outputId": "9dc8a32a-58b1-45fd-9a07-f76b786335b6"
      },
      "execution_count": 6,
      "outputs": [
        {
          "output_type": "stream",
          "name": "stdout",
          "text": [
            "İki boyutlu array'deki 2 ve 6 elemanları: [2 6]\n",
            "İki boyutlu array'deki 3, 9, 5 elemanları: [3 9 5]\n",
            "Üç boyutlu array'deki 21, 8, 11 elemanları: [21  8 11]\n",
            "Üç boyutlu array'deki 6, 20 elemanları: [8 6]\n"
          ]
        }
      ]
    },
    {
      "cell_type": "markdown",
      "source": [
        "5"
      ],
      "metadata": {
        "id": "FlCSaDAmi0Ev"
      }
    },
    {
      "cell_type": "code",
      "source": [
        "import numpy as np\n",
        "\n",
        "array_zeros = np.zeros((5, 3), dtype=int)\n",
        "array_ones = np.ones((5, 3), dtype=int)\n",
        "\n",
        "array_concat_rows = np.vstack((array_zeros, array_ones))\n",
        "array_concat_cols = np.hstack((array_zeros, array_ones))\n",
        "\n",
        "print(\"Satır bazında birleştirilmiş array:\\n\", array_concat_rows)\n",
        "print(\"\\nSütun bazında birleştirilmiş array:\\n\", array_concat_cols)\n"
      ],
      "metadata": {
        "colab": {
          "base_uri": "https://localhost:8080/"
        },
        "id": "EEOE4TzEizDX",
        "outputId": "2253c94d-dbb6-4d4b-abb4-8eb911fc495e"
      },
      "execution_count": 8,
      "outputs": [
        {
          "output_type": "stream",
          "name": "stdout",
          "text": [
            "Satır bazında birleştirilmiş array:\n",
            " [[0 0 0]\n",
            " [0 0 0]\n",
            " [0 0 0]\n",
            " [0 0 0]\n",
            " [0 0 0]\n",
            " [1 1 1]\n",
            " [1 1 1]\n",
            " [1 1 1]\n",
            " [1 1 1]\n",
            " [1 1 1]]\n",
            "\n",
            "Sütun bazında birleştirilmiş array:\n",
            " [[0 0 0 1 1 1]\n",
            " [0 0 0 1 1 1]\n",
            " [0 0 0 1 1 1]\n",
            " [0 0 0 1 1 1]\n",
            " [0 0 0 1 1 1]]\n"
          ]
        }
      ]
    }
  ]
}