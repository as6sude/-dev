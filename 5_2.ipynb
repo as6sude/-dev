{
  "nbformat": 4,
  "nbformat_minor": 0,
  "metadata": {
    "colab": {
      "provenance": []
    },
    "kernelspec": {
      "name": "python3",
      "display_name": "Python 3"
    },
    "language_info": {
      "name": "python"
    }
  },
  "cells": [
    {
      "cell_type": "code",
      "execution_count": 1,
      "metadata": {
        "id": "hHJVf8yej0sV"
      },
      "outputs": [],
      "source": [
        "import pandas as pd\n",
        "\n",
        "sozluk = {\n",
        "    \"Kategori\": [\"Giyim\", \"Giyim\", \"Ayakkabı\", \"Aksesuar\", \"Ayakkabı\", \"Giyim\", \"Aksesuar\", \"Aksesuar\", \"Ayakkabı\", \"Giyim\"],\n",
        "    \"Ürün\": [\"Kazak\", \"T-shirt\", \"Sandalet\", \"Küpe\", \"Spor Ayakkabı\", \"Pantolon\", \"Kolye\", \"Yüzük\", \"Çizme\", \"Ceket\"],\n",
        "    \"Fiyat\": [300, 180, 450, 50, 700, 400, 150, 80, 850, 900]\n",
        "}\n",
        "\n"
      ]
    },
    {
      "cell_type": "code",
      "source": [
        "df = pd.DataFrame(sozluk)\n",
        "\n",
        "kategori_2_index = df.iloc[2][\"Kategori\"]\n",
        "urun_2_index = df.iloc[2][\"Ürün\"]\n",
        "veriler_4_9 = df.iloc[4:10]\n",
        "urunler_1_6 = df.iloc[1:7][\"Ürün\"]\n",
        "giyim_urunler = df[df[\"Kategori\"] == \"Giyim\"][\"Ürün\"]\n",
        "ayakkabi_urunler = df[df[\"Kategori\"] == \"Ayakkabı\"][\"Ürün\"]\n",
        "aksesuar_urunler = df[df[\"Kategori\"] == \"Aksesuar\"][\"Ürün\"]\n",
        "giyim_300_plus = df[(df[\"Kategori\"] == \"Giyim\") & (df[\"Fiyat\"] > 300)][\"Ürün\"]\n",
        "ayakkabi_600_less = df[(df[\"Kategori\"] == \"Ayakkabı\") & (df[\"Fiyat\"] < 600)][\"Ürün\"]\n",
        "aksesuar_100_plus = df[(df[\"Kategori\"] == \"Aksesuar\") & (df[\"Fiyat\"] > 100)][\"Ürün\"]"
      ],
      "metadata": {
        "id": "CE69Vf8Xj1GF"
      },
      "execution_count": 2,
      "outputs": []
    },
    {
      "cell_type": "code",
      "source": [
        "print(kategori_2_index)\n",
        "print(urun_2_index)\n",
        "print(veriler_4_9)\n",
        "print(urunler_1_6)\n",
        "print(giyim_urunler)\n",
        "print(ayakkabi_urunler)\n",
        "print(aksesuar_urunler)\n",
        "print(giyim_300_plus)\n",
        "print(ayakkabi_600_less)\n",
        "print(aksesuar_100_plus)"
      ],
      "metadata": {
        "colab": {
          "base_uri": "https://localhost:8080/"
        },
        "id": "2DEMu-MWj1gF",
        "outputId": "e320c5d5-c757-426f-b1c6-b11e344f8587"
      },
      "execution_count": 3,
      "outputs": [
        {
          "output_type": "stream",
          "name": "stdout",
          "text": [
            "Ayakkabı\n",
            "Sandalet\n",
            "   Kategori           Ürün  Fiyat\n",
            "4  Ayakkabı  Spor Ayakkabı    700\n",
            "5     Giyim       Pantolon    400\n",
            "6  Aksesuar          Kolye    150\n",
            "7  Aksesuar          Yüzük     80\n",
            "8  Ayakkabı          Çizme    850\n",
            "9     Giyim          Ceket    900\n",
            "1          T-shirt\n",
            "2         Sandalet\n",
            "3             Küpe\n",
            "4    Spor Ayakkabı\n",
            "5         Pantolon\n",
            "6            Kolye\n",
            "Name: Ürün, dtype: object\n",
            "0       Kazak\n",
            "1     T-shirt\n",
            "5    Pantolon\n",
            "9       Ceket\n",
            "Name: Ürün, dtype: object\n",
            "2         Sandalet\n",
            "4    Spor Ayakkabı\n",
            "8            Çizme\n",
            "Name: Ürün, dtype: object\n",
            "3     Küpe\n",
            "6    Kolye\n",
            "7    Yüzük\n",
            "Name: Ürün, dtype: object\n",
            "5    Pantolon\n",
            "9       Ceket\n",
            "Name: Ürün, dtype: object\n",
            "2    Sandalet\n",
            "Name: Ürün, dtype: object\n",
            "6    Kolye\n",
            "Name: Ürün, dtype: object\n"
          ]
        }
      ]
    },
    {
      "cell_type": "code",
      "source": [
        "import pandas as pd\n",
        "\n",
        "sozluk = {\n",
        "    \"Kategori\": [\"Giyim\", \"Giyim\", \"Ayakkabı\", \"Aksesuar\", \"Ayakkabı\", \"Giyim\", \"Aksesuar\", \"Aksesuar\", \"Ayakkabı\", \"Giyim\"],\n",
        "    \"Ürün\": [\"Kazak\", \"T-shirt\", \"Sandalet\", \"Küpe\", \"Spor Ayakkabı\", \"Pantolon\", \"Kolye\", \"Yüzük\", \"Çizme\", \"Ceket\"],\n",
        "    \"Fiyat\": [300, 180, 450, 50, 700, 400, 150, 80, 850, 900]\n",
        "}\n",
        "\n",
        "\n"
      ],
      "metadata": {
        "id": "6gdPh9Zuj1r3"
      },
      "execution_count": 7,
      "outputs": []
    },
    {
      "cell_type": "code",
      "source": [
        "df = pd.DataFrame(sozluk)\n",
        "\n",
        "kategori_2_index = df.iloc[2][\"Kategori\"]\n",
        "urun_2_index = df.iloc[2][\"Ürün\"]\n",
        "veriler_4_9 = df.iloc[4:10]\n",
        "urunler_1_6 = df.iloc[1:7][\"Ürün\"]\n",
        "giyim_urunler = df[df[\"Kategori\"] == \"Giyim\"][\"Ürün\"]\n",
        "ayakkabi_urunler = df[df[\"Kategori\"] == \"Ayakkabı\"][\"Ürün\"]\n",
        "aksesuar_urunler = df[df[\"Kategori\"] == \"Aksesuar\"][\"Ürün\"]\n",
        "giyim_300_plus = df[(df[\"Kategori\"] == \"Giyim\") & (df[\"Fiyat\"] > 300)][\"Ürün\"]\n",
        "ayakkabi_600_less = df[(df[\"Kategori\"] == \"Ayakkabı\") & (df[\"Fiyat\"] < 600)][\"Ürün\"]\n",
        "aksesuar_100_plus = df[(df[\"Kategori\"] == \"Aksesuar\") & (df[\"Fiyat\"] > 100)][\"Ürün\"]\n",
        "\n",
        "print(kategori_2_index)\n",
        "print(urun_2_index)\n",
        "print(veriler_4_9)\n",
        "print(urunler_1_6.tolist())\n",
        "print(giyim_urunler.tolist())\n",
        "print(ayakkabi_urunler.tolist())\n",
        "print(aksesuar_urunler.tolist())\n",
        "print(giyim_300_plus.tolist())\n",
        "print(ayakkabi_600_less.tolist())\n",
        "print(aksesuar_100_plus.tolist())"
      ],
      "metadata": {
        "colab": {
          "base_uri": "https://localhost:8080/"
        },
        "id": "Yo9O8zthmR95",
        "outputId": "70f388a2-126f-4433-9462-514d19a610b1"
      },
      "execution_count": 8,
      "outputs": [
        {
          "output_type": "stream",
          "name": "stdout",
          "text": [
            "Ayakkabı\n",
            "Sandalet\n",
            "   Kategori           Ürün  Fiyat\n",
            "4  Ayakkabı  Spor Ayakkabı    700\n",
            "5     Giyim       Pantolon    400\n",
            "6  Aksesuar          Kolye    150\n",
            "7  Aksesuar          Yüzük     80\n",
            "8  Ayakkabı          Çizme    850\n",
            "9     Giyim          Ceket    900\n",
            "['T-shirt', 'Sandalet', 'Küpe', 'Spor Ayakkabı', 'Pantolon', 'Kolye']\n",
            "['Kazak', 'T-shirt', 'Pantolon', 'Ceket']\n",
            "['Sandalet', 'Spor Ayakkabı', 'Çizme']\n",
            "['Küpe', 'Kolye', 'Yüzük']\n",
            "['Pantolon', 'Ceket']\n",
            "['Sandalet']\n",
            "['Kolye']\n"
          ]
        }
      ]
    },
    {
      "cell_type": "code",
      "source": [
        "import pandas as pd\n",
        "\n",
        "sozluk = {\n",
        "    \"Kategori\": [\"Giyim\", \"Giyim\", \"Ayakkabı\", \"Aksesuar\", \"Ayakkabı\", \"Giyim\", \"Aksesuar\", \"Aksesuar\", \"Ayakkabı\", \"Giyim\"],\n",
        "    \"Ürün\": [\"Kazak\", \"T-shirt\", \"Sandalet\", \"Küpe\", \"Spor Ayakkabı\", \"Pantolon\", \"Kolye\", \"Yüzük\", \"Çizme\", \"Ceket\"],\n",
        "    \"Fiyat\": [300, 180, 450, 50, 700, 400, 150, 80, 850, 900]\n",
        "}\n",
        "\n",
        "df = pd.DataFrame(sozluk)\n",
        "\n",
        "kategori_2_index = df.iloc[2][\"Kategori\"]\n",
        "urun_2_index = df.iloc[2][\"Ürün\"]\n",
        "veriler_4_9 = df.iloc[4:10]\n",
        "urunler_1_6 = df.iloc[1:7][\"Ürün\"]\n",
        "giyim_urunler = df[df[\"Kategori\"] == \"Giyim\"][\"Ürün\"]\n",
        "ayakkabi_urunler = df[df[\"Kategori\"] == \"Ayakkabı\"][\"Ürün\"]\n",
        "aksesuar_urunler = df[df[\"Kategori\"] == \"Aksesuar\"][\"Ürün\"]\n",
        "giyim_300_plus = df[(df[\"Kategori\"] == \"Giyim\") & (df[\"Fiyat\"] > 300)][\"Ürün\"]\n",
        "ayakkabi_600_less = df[(df[\"Kategori\"] == \"Ayakkabı\") & (df[\"Fiyat\"] < 600)][\"Ürün\"]\n",
        "aksesuar_100_plus = df[(df[\"Kategori\"] == \"Aksesuar\") & (df[\"Fiyat\"] > 100)][\"Ürün\"]\n",
        "\n",
        "print(kategori_2_index)\n",
        "print(urun_2_index)\n",
        "print(veriler_4_9)\n",
        "print(urunler_1_6.tolist())\n",
        "print(giyim_urunler.tolist())\n",
        "print(ayakkabi_urunler.tolist())\n",
        "print(aksesuar_urunler.tolist())\n",
        "print(giyim_300_plus.tolist())\n",
        "print(ayakkabi_600_less.tolist())\n",
        "print(aksesuar_100_plus.tolist())\n",
        "\n"
      ],
      "metadata": {
        "colab": {
          "base_uri": "https://localhost:8080/"
        },
        "id": "nfMQM3Whj1u1",
        "outputId": "1b0fc69e-22cc-487f-b7ea-7ed41c754b04"
      },
      "execution_count": 9,
      "outputs": [
        {
          "output_type": "stream",
          "name": "stdout",
          "text": [
            "Ayakkabı\n",
            "Sandalet\n",
            "   Kategori           Ürün  Fiyat\n",
            "4  Ayakkabı  Spor Ayakkabı    700\n",
            "5     Giyim       Pantolon    400\n",
            "6  Aksesuar          Kolye    150\n",
            "7  Aksesuar          Yüzük     80\n",
            "8  Ayakkabı          Çizme    850\n",
            "9     Giyim          Ceket    900\n",
            "['T-shirt', 'Sandalet', 'Küpe', 'Spor Ayakkabı', 'Pantolon', 'Kolye']\n",
            "['Kazak', 'T-shirt', 'Pantolon', 'Ceket']\n",
            "['Sandalet', 'Spor Ayakkabı', 'Çizme']\n",
            "['Küpe', 'Kolye', 'Yüzük']\n",
            "['Pantolon', 'Ceket']\n",
            "['Sandalet']\n",
            "['Kolye']\n"
          ]
        }
      ]
    }
  ]
}