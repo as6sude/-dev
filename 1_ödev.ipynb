{
  "nbformat": 4,
  "nbformat_minor": 0,
  "metadata": {
    "colab": {
      "provenance": []
    },
    "kernelspec": {
      "name": "python3",
      "display_name": "Python 3"
    },
    "language_info": {
      "name": "python"
    }
  },
  "cells": [
    {
      "cell_type": "code",
      "execution_count": 1,
      "metadata": {
        "colab": {
          "base_uri": "https://localhost:8080/"
        },
        "id": "VTNHoaCCxhJA",
        "outputId": "b4d1ab2f-28f9-488c-fed6-c821076aef91"
      },
      "outputs": [
        {
          "output_type": "execute_result",
          "data": {
            "text/plain": [
              "3.0"
            ]
          },
          "metadata": {},
          "execution_count": 1
        }
      ],
      "source": [
        "float(3)"
      ]
    },
    {
      "cell_type": "code",
      "source": [
        "x=3"
      ],
      "metadata": {
        "id": "y5Q52izdzDNN"
      },
      "execution_count": 3,
      "outputs": []
    },
    {
      "cell_type": "code",
      "source": [
        "type(x)"
      ],
      "metadata": {
        "colab": {
          "base_uri": "https://localhost:8080/"
        },
        "id": "bEiJ6nsUzNLU",
        "outputId": "e7f5a516-adfd-4f09-bc7d-af195b9027f1"
      },
      "execution_count": 4,
      "outputs": [
        {
          "output_type": "execute_result",
          "data": {
            "text/plain": [
              "int"
            ]
          },
          "metadata": {},
          "execution_count": 4
        }
      ]
    },
    {
      "cell_type": "code",
      "source": [
        "x=float(x)"
      ],
      "metadata": {
        "id": "v2b3fxJbzSRM"
      },
      "execution_count": 5,
      "outputs": []
    },
    {
      "cell_type": "code",
      "source": [
        "type(x)"
      ],
      "metadata": {
        "colab": {
          "base_uri": "https://localhost:8080/"
        },
        "id": "vLHFUcRwzWac",
        "outputId": "2306626d-c6d5-4ee2-93de-74e0a0f6184f"
      },
      "execution_count": 6,
      "outputs": [
        {
          "output_type": "execute_result",
          "data": {
            "text/plain": [
              "float"
            ]
          },
          "metadata": {},
          "execution_count": 6
        }
      ]
    },
    {
      "cell_type": "code",
      "source": [
        "y=4.5\n",
        "y=int(y)\n",
        "type(y)"
      ],
      "metadata": {
        "colab": {
          "base_uri": "https://localhost:8080/"
        },
        "id": "-IA4tPM-zaRs",
        "outputId": "5b086d5a-13fe-43e4-ac5b-4bcbf1de80e8"
      },
      "execution_count": 7,
      "outputs": [
        {
          "output_type": "execute_result",
          "data": {
            "text/plain": [
              "int"
            ]
          },
          "metadata": {},
          "execution_count": 7
        }
      ]
    },
    {
      "cell_type": "code",
      "source": [
        "z=\"8\"\n",
        "type(z)"
      ],
      "metadata": {
        "colab": {
          "base_uri": "https://localhost:8080/"
        },
        "id": "a98auCW2z9Ss",
        "outputId": "6f1917fe-4e56-477b-f33c-30b62c9cf207"
      },
      "execution_count": 11,
      "outputs": [
        {
          "output_type": "execute_result",
          "data": {
            "text/plain": [
              "str"
            ]
          },
          "metadata": {},
          "execution_count": 11
        }
      ]
    },
    {
      "cell_type": "code",
      "source": [
        "z=int(z)\n",
        "type(z)"
      ],
      "metadata": {
        "colab": {
          "base_uri": "https://localhost:8080/"
        },
        "id": "ekoPjvJ_11pt",
        "outputId": "a0906d8c-3c55-43ed-e890-c8e464b55316"
      },
      "execution_count": 12,
      "outputs": [
        {
          "output_type": "execute_result",
          "data": {
            "text/plain": [
              "int"
            ]
          },
          "metadata": {},
          "execution_count": 12
        }
      ]
    },
    {
      "cell_type": "code",
      "source": [
        "a=\"12\"\n",
        "type(a)"
      ],
      "metadata": {
        "colab": {
          "base_uri": "https://localhost:8080/"
        },
        "id": "7sDdHqeZzpbN",
        "outputId": "8a2a01de-dabd-47ff-aa2f-437a1d7a83d2"
      },
      "execution_count": 13,
      "outputs": [
        {
          "output_type": "execute_result",
          "data": {
            "text/plain": [
              "str"
            ]
          },
          "metadata": {},
          "execution_count": 13
        }
      ]
    },
    {
      "cell_type": "code",
      "source": [
        "a=float(a)\n",
        "type(a)"
      ],
      "metadata": {
        "colab": {
          "base_uri": "https://localhost:8080/"
        },
        "id": "TKGJq9sd2DrF",
        "outputId": "a4fbdbe4-6407-4e99-c193-3c7894748fcb"
      },
      "execution_count": 14,
      "outputs": [
        {
          "output_type": "execute_result",
          "data": {
            "text/plain": [
              "float"
            ]
          },
          "metadata": {},
          "execution_count": 14
        }
      ]
    },
    {
      "cell_type": "code",
      "source": [
        "b=\"46.8\"\n",
        "type(b)"
      ],
      "metadata": {
        "colab": {
          "base_uri": "https://localhost:8080/"
        },
        "id": "2QcbwIvY2TWl",
        "outputId": "a7a56c64-fd59-4e8f-fa6f-e8a6833ed408"
      },
      "execution_count": 15,
      "outputs": [
        {
          "output_type": "execute_result",
          "data": {
            "text/plain": [
              "str"
            ]
          },
          "metadata": {},
          "execution_count": 15
        }
      ]
    },
    {
      "cell_type": "code",
      "source": [
        "b=float(b)\n",
        "type(b)\n"
      ],
      "metadata": {
        "colab": {
          "base_uri": "https://localhost:8080/"
        },
        "id": "-jqNzFJb2oZ9",
        "outputId": "a1b205aa-734c-4366-b90e-46d991704f3d"
      },
      "execution_count": 17,
      "outputs": [
        {
          "output_type": "execute_result",
          "data": {
            "text/plain": [
              "float"
            ]
          },
          "metadata": {},
          "execution_count": 17
        }
      ]
    },
    {
      "cell_type": "code",
      "source": [
        "b=int(b)\n",
        "type (b)\n"
      ],
      "metadata": {
        "colab": {
          "base_uri": "https://localhost:8080/"
        },
        "id": "hsvPzg2y2a31",
        "outputId": "723125cd-dad8-4dc7-805a-bbdc52694966"
      },
      "execution_count": 18,
      "outputs": [
        {
          "output_type": "execute_result",
          "data": {
            "text/plain": [
              "int"
            ]
          },
          "metadata": {},
          "execution_count": 18
        }
      ]
    },
    {
      "cell_type": "markdown",
      "source": [
        "2."
      ],
      "metadata": {
        "id": "m0E7IJYY2yqU"
      }
    },
    {
      "cell_type": "code",
      "source": [
        "cenk=\"5\"\n",
        "beyza=\"84\"\n",
        "zeynep=\"78\""
      ],
      "metadata": {
        "id": "m8PM3pvQ24xl"
      },
      "execution_count": 23,
      "outputs": []
    },
    {
      "cell_type": "code",
      "source": [
        "cenk <beyza"
      ],
      "metadata": {
        "colab": {
          "base_uri": "https://localhost:8080/"
        },
        "id": "8MFujTO13h5F",
        "outputId": "20ccbb52-6bd6-4e0e-ad52-b381bac5abf8"
      },
      "execution_count": 24,
      "outputs": [
        {
          "output_type": "execute_result",
          "data": {
            "text/plain": [
              "True"
            ]
          },
          "metadata": {},
          "execution_count": 24
        }
      ]
    },
    {
      "cell_type": "code",
      "source": [
        "cenk==beyza"
      ],
      "metadata": {
        "colab": {
          "base_uri": "https://localhost:8080/"
        },
        "id": "Jm08zf9w3wNs",
        "outputId": "639f379f-0508-4dda-db70-aaae6d312ed0"
      },
      "execution_count": 25,
      "outputs": [
        {
          "output_type": "execute_result",
          "data": {
            "text/plain": [
              "False"
            ]
          },
          "metadata": {},
          "execution_count": 25
        }
      ]
    },
    {
      "cell_type": "code",
      "source": [
        "zeynep<=beyza and cenk>zeynep"
      ],
      "metadata": {
        "colab": {
          "base_uri": "https://localhost:8080/"
        },
        "id": "Vup675Ap31-N",
        "outputId": "16367d2e-f97f-492d-b7b4-75b95c538ef8"
      },
      "execution_count": 28,
      "outputs": [
        {
          "output_type": "execute_result",
          "data": {
            "text/plain": [
              "False"
            ]
          },
          "metadata": {},
          "execution_count": 28
        }
      ]
    },
    {
      "cell_type": "markdown",
      "source": [
        "3"
      ],
      "metadata": {
        "id": "6BRH7COw4I8c"
      }
    },
    {
      "cell_type": "code",
      "source": [
        "\n",
        "a=int(input(\"ilksayı\"))\n",
        "b=int(input(\"ikinci sayı\"))\n",
        "\n",
        "toplama= a+b\n",
        "çıkarma= a-b\n",
        "çarpma=a*b\n",
        "bölme=a/b\n",
        "print(\"toplama\",toplama)\n",
        "print(\"çıkarma\",çıkarma)\n",
        "print(\"çarpma\",çarpma)\n",
        "print(\"bölme\",bölme)"
      ],
      "metadata": {
        "colab": {
          "base_uri": "https://localhost:8080/"
        },
        "id": "w37-lrVH36-7",
        "outputId": "be898270-cc02-48e1-fb25-ddf3c7d2f003"
      },
      "execution_count": 43,
      "outputs": [
        {
          "output_type": "stream",
          "name": "stdout",
          "text": [
            "ilksayı4\n",
            "ikinci sayı596\n",
            "toplama 600\n",
            "çıkarma -592\n",
            "çarpma 2384\n",
            "bölme 0.006711409395973154\n"
          ]
        }
      ]
    },
    {
      "cell_type": "markdown",
      "source": [
        "4"
      ],
      "metadata": {
        "id": "WjupVrl26yw8"
      }
    },
    {
      "cell_type": "code",
      "source": [
        "ad =input(\"adınız\")\n",
        "yaş =input(\"yaşınız\")\n",
        "şehir=input(\"yaşadığınız şehir\")\n",
        "meslek=input(\"mesleğiniz\")\n",
        "print(\"adınız\",ad)\n",
        "print(\"yaşınız\",yaş)\n",
        "print(\"yaşadığınız şehir\",şehir)\n",
        "print(\"mesleğiniz\",meslek)"
      ],
      "metadata": {
        "colab": {
          "base_uri": "https://localhost:8080/"
        },
        "id": "zmzXbmsy660N",
        "outputId": "f91da604-0797-48f6-b4bc-679d388ff02f"
      },
      "execution_count": 45,
      "outputs": [
        {
          "output_type": "stream",
          "name": "stdout",
          "text": [
            "adınızanıl\n",
            "yaşınız54\n",
            "yaşadığınız şehirankara\n",
            "mesleğinizöğretmen\n",
            "adınız anıl\n",
            "yaşınız 54\n",
            "yaşadığınız şehir ankara\n",
            "mesleğiniz öğretmen\n"
          ]
        }
      ]
    },
    {
      "cell_type": "markdown",
      "source": [
        "5"
      ],
      "metadata": {
        "id": "phSntfvz7yRV"
      }
    },
    {
      "cell_type": "code",
      "source": [
        "değişken=\"veri bilimi atölyesi\"\n"
      ],
      "metadata": {
        "id": "rSFWa2WL7zSN"
      },
      "execution_count": 49,
      "outputs": []
    },
    {
      "cell_type": "code",
      "source": [
        "print(değişken[0:4])"
      ],
      "metadata": {
        "colab": {
          "base_uri": "https://localhost:8080/"
        },
        "id": "4G4I33Kj8APF",
        "outputId": "41c5655d-9bb0-420e-87a0-f036d6adc5cd"
      },
      "execution_count": 50,
      "outputs": [
        {
          "output_type": "stream",
          "name": "stdout",
          "text": [
            "veri\n"
          ]
        }
      ]
    },
    {
      "cell_type": "code",
      "source": [
        "print(değişken[5:11])"
      ],
      "metadata": {
        "colab": {
          "base_uri": "https://localhost:8080/"
        },
        "id": "bSkKoMVh8usk",
        "outputId": "7dfd9998-6063-47f5-b2e1-9a323cfb8da2"
      },
      "execution_count": 54,
      "outputs": [
        {
          "output_type": "stream",
          "name": "stdout",
          "text": [
            "bilimi\n"
          ]
        }
      ]
    },
    {
      "cell_type": "code",
      "source": [
        "print(değişken[12:21])"
      ],
      "metadata": {
        "colab": {
          "base_uri": "https://localhost:8080/"
        },
        "id": "MsHTCc5b836l",
        "outputId": "c6f2ca5a-7105-497e-a7f3-e6c6376eb5c0"
      },
      "execution_count": 53,
      "outputs": [
        {
          "output_type": "stream",
          "name": "stdout",
          "text": [
            "atölyesi\n"
          ]
        }
      ]
    },
    {
      "cell_type": "code",
      "source": [
        "değişken.upper()"
      ],
      "metadata": {
        "colab": {
          "base_uri": "https://localhost:8080/",
          "height": 35
        },
        "id": "DeEofz7R9XQ9",
        "outputId": "246fd84a-b900-434c-93a4-565300849f1d"
      },
      "execution_count": 60,
      "outputs": [
        {
          "output_type": "execute_result",
          "data": {
            "text/plain": [
              "'VERI BILIMI ATÖLYESI'"
            ],
            "application/vnd.google.colaboratory.intrinsic+json": {
              "type": "string"
            }
          },
          "metadata": {},
          "execution_count": 60
        }
      ]
    },
    {
      "cell_type": "code",
      "source": [
        "değişken.lower()"
      ],
      "metadata": {
        "colab": {
          "base_uri": "https://localhost:8080/",
          "height": 35
        },
        "id": "itgFG3Hc9wOd",
        "outputId": "8bc3f8b7-4c51-4f47-f865-d40c09dc79bc"
      },
      "execution_count": 61,
      "outputs": [
        {
          "output_type": "execute_result",
          "data": {
            "text/plain": [
              "'veri bilimi atölyesi'"
            ],
            "application/vnd.google.colaboratory.intrinsic+json": {
              "type": "string"
            }
          },
          "metadata": {},
          "execution_count": 61
        }
      ]
    },
    {
      "cell_type": "code",
      "source": [
        "rakamlar=\"0123456789\"\n",
        "rakamlar[0:10:2]"
      ],
      "metadata": {
        "colab": {
          "base_uri": "https://localhost:8080/",
          "height": 35
        },
        "id": "KGHPJeP494DE",
        "outputId": "efe3ae24-4afe-4074-aa6f-f255c652d9b2"
      },
      "execution_count": 62,
      "outputs": [
        {
          "output_type": "execute_result",
          "data": {
            "text/plain": [
              "'02468'"
            ],
            "application/vnd.google.colaboratory.intrinsic+json": {
              "type": "string"
            }
          },
          "metadata": {},
          "execution_count": 62
        }
      ]
    },
    {
      "cell_type": "code",
      "source": [
        "rakamlar[0:10:3]"
      ],
      "metadata": {
        "colab": {
          "base_uri": "https://localhost:8080/",
          "height": 35
        },
        "id": "v1aEJert-O41",
        "outputId": "09f57c03-2d6f-46b6-8253-5c1e8db2dbcc"
      },
      "execution_count": 63,
      "outputs": [
        {
          "output_type": "execute_result",
          "data": {
            "text/plain": [
              "'0369'"
            ],
            "application/vnd.google.colaboratory.intrinsic+json": {
              "type": "string"
            }
          },
          "metadata": {},
          "execution_count": 63
        }
      ]
    },
    {
      "cell_type": "code",
      "source": [
        "rakamlar[1:10:2]"
      ],
      "metadata": {
        "colab": {
          "base_uri": "https://localhost:8080/",
          "height": 35
        },
        "id": "jzYm03B6-Xvl",
        "outputId": "7837e304-5115-43f2-ec0f-fa61d277ffed"
      },
      "execution_count": 65,
      "outputs": [
        {
          "output_type": "execute_result",
          "data": {
            "text/plain": [
              "'13579'"
            ],
            "application/vnd.google.colaboratory.intrinsic+json": {
              "type": "string"
            }
          },
          "metadata": {},
          "execution_count": 65
        }
      ]
    }
  ]
}