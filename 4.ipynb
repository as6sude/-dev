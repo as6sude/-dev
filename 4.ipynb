{
  "nbformat": 4,
  "nbformat_minor": 0,
  "metadata": {
    "colab": {
      "provenance": []
    },
    "kernelspec": {
      "name": "python3",
      "display_name": "Python 3"
    },
    "language_info": {
      "name": "python"
    }
  },
  "cells": [
    {
      "cell_type": "code",
      "execution_count": 1,
      "metadata": {
        "id": "VWCB4GKHPdH0"
      },
      "outputs": [],
      "source": [
        "liste = [\"Python\",True,9,\"3\",8.4,\"Hi-Kod\",\"False\",4.7]\n"
      ]
    },
    {
      "cell_type": "code",
      "source": [
        "print(liste[3])"
      ],
      "metadata": {
        "colab": {
          "base_uri": "https://localhost:8080/"
        },
        "id": "UpKfud-Od296",
        "outputId": "f1a426ad-fab6-4e3d-ab89-73d8483d7fe5"
      },
      "execution_count": 2,
      "outputs": [
        {
          "output_type": "stream",
          "name": "stdout",
          "text": [
            "3\n"
          ]
        }
      ]
    },
    {
      "cell_type": "code",
      "source": [
        "print(liste[5])"
      ],
      "metadata": {
        "colab": {
          "base_uri": "https://localhost:8080/"
        },
        "id": "xp3_KSEVd7BI",
        "outputId": "1ddcb312-c2b0-41c8-bcb2-32e8a1bbc7fc"
      },
      "execution_count": 3,
      "outputs": [
        {
          "output_type": "stream",
          "name": "stdout",
          "text": [
            "Hi-Kod\n"
          ]
        }
      ]
    },
    {
      "cell_type": "code",
      "source": [
        "print(liste[7])"
      ],
      "metadata": {
        "colab": {
          "base_uri": "https://localhost:8080/"
        },
        "id": "nmtwUfh9d845",
        "outputId": "641dcd13-b879-466f-ad51-487295d07502"
      },
      "execution_count": 4,
      "outputs": [
        {
          "output_type": "stream",
          "name": "stdout",
          "text": [
            "4.7\n"
          ]
        }
      ]
    },
    {
      "cell_type": "code",
      "source": [
        "print(liste[2:6])"
      ],
      "metadata": {
        "colab": {
          "base_uri": "https://localhost:8080/"
        },
        "id": "gEczaWHGeGU6",
        "outputId": "892288ff-7160-4755-bafc-013f4f00cc4b"
      },
      "execution_count": 5,
      "outputs": [
        {
          "output_type": "stream",
          "name": "stdout",
          "text": [
            "[9, '3', 8.4, 'Hi-Kod']\n"
          ]
        }
      ]
    },
    {
      "cell_type": "code",
      "source": [
        "print(liste[4:8])"
      ],
      "metadata": {
        "colab": {
          "base_uri": "https://localhost:8080/"
        },
        "id": "9ui6Zx5eeH_p",
        "outputId": "bbf5e2ef-652c-401b-dd19-508f2b0a453c"
      },
      "execution_count": 6,
      "outputs": [
        {
          "output_type": "stream",
          "name": "stdout",
          "text": [
            "[8.4, 'Hi-Kod', 'False', 4.7]\n"
          ]
        }
      ]
    },
    {
      "cell_type": "code",
      "source": [
        "liste = [\"Python\", True, 9, \"3\", 8.4, \"Hi-Kod\", \"False\", 4.7]\n",
        "\n",
        "yeni_liste = []\n"
      ],
      "metadata": {
        "id": "PmlXNACEeOcv"
      },
      "execution_count": 7,
      "outputs": []
    },
    {
      "cell_type": "code",
      "source": [
        "for item in liste:\n",
        "    if isinstance(item, str):\n",
        "        yeni_liste.append(item)\n",
        "\n",
        "print(yeni_liste)"
      ],
      "metadata": {
        "colab": {
          "base_uri": "https://localhost:8080/"
        },
        "id": "1T2_40RCeZxA",
        "outputId": "5959258b-5c5d-412f-feb9-094d61e6f60b"
      },
      "execution_count": 8,
      "outputs": [
        {
          "output_type": "stream",
          "name": "stdout",
          "text": [
            "['Python', '3', 'Hi-Kod', 'False']\n"
          ]
        }
      ]
    },
    {
      "cell_type": "code",
      "source": [
        "meyveler = [\"Karpuz\", \"Elma\", \"Muz\", \"Kiraz\"]\n",
        "for index, meyve in enumerate(meyveler):\n",
        "    print(\"{}. indexte bulunan meyve: {}\".format(index, meyve))"
      ],
      "metadata": {
        "colab": {
          "base_uri": "https://localhost:8080/"
        },
        "id": "TmVugcRUetqa",
        "outputId": "dbd9c168-ae34-48f2-b2f5-373c9c0e872e"
      },
      "execution_count": 9,
      "outputs": [
        {
          "output_type": "stream",
          "name": "stdout",
          "text": [
            "0. indexte bulunan meyve: Karpuz\n",
            "1. indexte bulunan meyve: Elma\n",
            "2. indexte bulunan meyve: Muz\n",
            "3. indexte bulunan meyve: Kiraz\n"
          ]
        }
      ]
    },
    {
      "cell_type": "code",
      "source": [
        "ogrenciler = {\n",
        "    \"Beyza\": {\"Matematik\": 85, \"Fizik\": 90, \"Kimya\": 88},\n",
        "    \"Mahmut\": {\"Matematik\": 92, \"Fizik\": 85, \"Kimya\": 91},\n",
        "    \"Tarık\": {\"Matematik\": 78, \"Fizik\": 80, \"Kimya\": 82}\n",
        "}"
      ],
      "metadata": {
        "id": "v5jskbCffZPK"
      },
      "execution_count": 10,
      "outputs": []
    },
    {
      "cell_type": "code",
      "source": [
        "print(\"Yapmak istediğiniz işlemi seçin:\")\n",
        "print(\"1. Öğrencinin ders notlarını öğren\")\n",
        "print(\"2. Öğrencinin ders notlarını güncelle\")\n",
        "print(\"3. Yeni öğrenci ekle\")"
      ],
      "metadata": {
        "colab": {
          "base_uri": "https://localhost:8080/"
        },
        "id": "c36_aMyUfdTH",
        "outputId": "76c57e6b-bbe7-496f-9a1c-17a95ba2f248"
      },
      "execution_count": 11,
      "outputs": [
        {
          "output_type": "stream",
          "name": "stdout",
          "text": [
            "Yapmak istediğiniz işlemi seçin:\n",
            "1. Öğrencinin ders notlarını öğren\n",
            "2. Öğrencinin ders notlarını güncelle\n",
            "3. Yeni öğrenci ekle\n"
          ]
        }
      ]
    },
    {
      "cell_type": "code",
      "source": [
        "islem = input(\"Seçiminizi yapın (1/2/3): \")"
      ],
      "metadata": {
        "colab": {
          "base_uri": "https://localhost:8080/"
        },
        "id": "DHxYtsSdfiGv",
        "outputId": "1e00df12-d374-40e1-c141-c70b7bf536f3"
      },
      "execution_count": 12,
      "outputs": [
        {
          "name": "stdout",
          "output_type": "stream",
          "text": [
            "Seçiminizi yapın (1/2/3): 2\n"
          ]
        }
      ]
    },
    {
      "cell_type": "code",
      "source": [
        "if islem == \"1\":\n",
        "    isim = input(\"Öğrencinin ismini girin: \")\n",
        "    ders = input(\"Hangi dersin notunu öğrenmek istersiniz? (Matematik/Fizik/Kimya): \")\n",
        "\n",
        "    if isim in ogrenciler:\n",
        "        if ders in ogrenciler[isim]:\n",
        "            print(f\"{isim} öğrencisinin {ders} notu: {ogrenciler[isim][ders]}\")\n",
        "        else:\n",
        "            print(f\"{ders} dersi {isim} için mevcut değil.\")\n",
        "    else:\n",
        "        print(f\"{isim} isimli öğrenci bulunamadı.\")"
      ],
      "metadata": {
        "id": "NkRgpkYBfmgH"
      },
      "execution_count": 14,
      "outputs": []
    },
    {
      "cell_type": "code",
      "source": [
        "islem = input(\"Seçiminizi yapın (1/2/3): \")\n",
        "\n",
        "if islem == \"1\":\n",
        "    isim = input(\"Öğrencinin ismini girin: \")\n",
        "    ders = input(\"Hangi dersin notunu öğrenmek istersiniz? (Matematik/Fizik/Kimya): \")\n",
        "\n",
        "    if isim in ogrenciler:\n",
        "        if ders in ogrenciler[isim]:\n",
        "            print(f\"{isim} öğrencisinin {ders} notu: {ogrenciler[isim][ders]}\")\n",
        "        else:\n",
        "            print(f\"{ders} dersi {isim} için mevcut değil.\")\n",
        "    else:\n",
        "        print(f\"{isim} isimli öğrenci bulunamadı.\")\n",
        "\n",
        "elif islem == \"2\":\n",
        "    isim = input(\"Öğrencinin ismini girin: \")\n",
        "    ders = input(\"Hangi dersin notunu güncellemek istersiniz? (Matematik/Fizik/Kimya): \")\n",
        "    yeni_not = int(input(f\"{ders} dersinin yeni notunu girin: \"))\n",
        "\n",
        "    if isim in ogrenciler:\n",
        "        if ders in ogrenciler[isim]:\n",
        "            ogrenciler[isim][ders] = yeni_not\n",
        "            print(f\"{isim} öğrencisinin {ders} notu başarıyla güncellendi: {yeni_not}\")\n",
        "        else:\n",
        "            print(f\"{ders} dersi {isim} için mevcut değil.\")\n",
        "    else:\n",
        "        print(f\"{isim} isimli öğrenci bulunamadı.\")\n",
        "\n",
        "elif islem == \"3\":\n",
        "    isim = input(\"Yeni öğrencinin ismini girin: \")\n",
        "    matematik_notu = int(input(\"Matematik notunu girin: \"))\n",
        "    fizik_notu = int(input(\"Fizik notunu girin: \"))\n",
        "    kimya_notu = int(input(\"Kimya notunu girin: \"))\n",
        "\n",
        "    ogrenciler[isim] = {\n",
        "        \"Matematik\": matematik_notu,\n",
        "        \"Fizik\": fizik_notu,\n",
        "        \"Kimya\": kimya_notu\n",
        "    }\n",
        "    print(f\"{isim} isimli öğrenci başarıyla eklendi.\")\n",
        "\n",
        "else:\n",
        "    print(\"Geçersiz işlem.\")\n",
        ""
      ],
      "metadata": {
        "colab": {
          "base_uri": "https://localhost:8080/"
        },
        "id": "AlxZKEwTfsVQ",
        "outputId": "57a9fa01-cc1c-4418-bfbf-675f8d9f580a"
      },
      "execution_count": 18,
      "outputs": [
        {
          "output_type": "stream",
          "name": "stdout",
          "text": [
            "Seçiminizi yapın (1/2/3): 2\n",
            "Öğrencinin ismini girin: Beyza\n",
            "Hangi dersin notunu güncellemek istersiniz? (Matematik/Fizik/Kimya): Kimya\n",
            "Kimya dersinin yeni notunu girin: 95\n",
            "Beyza öğrencisinin Kimya notu başarıyla güncellendi: 95\n"
          ]
        }
      ]
    },
    {
      "cell_type": "code",
      "source": [
        "\n",
        "ogrenciler = {\n",
        "    \"Beyza\": {\"Matematik\": 85, \"Fizik\": 90, \"Kimya\": 88},\n",
        "    \"Mahmut\": {\"Matematik\": 92, \"Fizik\": 85, \"Kimya\": 91},\n",
        "    \"Tarık\": {\"Matematik\": 78, \"Fizik\": 80, \"Kimya\": 82}\n",
        "}\n",
        "\n",
        "\n",
        "print(\"Yapmak istediğiniz işlemi seçin:\")\n",
        "print(\"1. Öğrencinin ders notlarını öğren\")\n",
        "print(\"2. Öğrencinin ders notlarını güncelle\")\n",
        "print(\"3. Yeni öğrenci ekle\")\n",
        "\n",
        "islem = input(\"Seçiminizi yapın (1/2/3): \")\n",
        "\n",
        "if islem == \"1\":\n",
        "    isim = input(\"Öğrencinin ismini girin: \")\n",
        "    ders = input(\"Hangi dersin notunu öğrenmek istersiniz? (Matematik/Fizik/Kimya): \")\n",
        "\n",
        "    if isim in ogrenciler:\n",
        "        if ders.capitalize() in ogrenciler[isim]:\n",
        "            print(f\"{isim} öğrencisinin {ders} notu: {ogrenciler[isim][ders.capitalize()]}\")\n",
        "        else:\n",
        "            print(f\"{ders} dersi {isim} için mevcut değil.\")\n",
        "    else:\n",
        "        print(f\"{isim} isimli öğrenci bulunamadı.\")\n",
        "\n",
        "elif islem == \"2\":\n",
        "    isim = input(\"Öğrencinin ismini girin: \")\n",
        "    ders = input(\"Hangi dersin notunu güncellemek istersiniz? (Matematik/Fizik/Kimya): \")\n",
        "    yeni_not = int(input(f\"{ders} dersinin yeni notunu girin: \"))\n",
        "\n",
        "    if isim in ogrenciler:\n",
        "        if ders.capitalize() in ogrenciler[isim]:\n",
        "            ogrenciler[isim][ders.capitalize()] = yeni_not\n",
        "            print(f\"{isim} öğrencisinin {ders} notu başarıyla güncellendi: {yeni_not}\")\n",
        "        else:\n",
        "            print(f\"{ders} dersi {isim} için mevcut değil.\")\n",
        "    else:\n",
        "        print(f\"{isim} isimli öğrenci bulunamadı.\")\n",
        "\n",
        "elif islem == \"3\":\n",
        "    isim = input(\"Yeni öğrencinin ismini girin: \")\n",
        "    matematik_notu = int(input(\"Matematik notunu girin: \"))\n",
        "    fizik_notu = int(input(\"Fizik notunu girin: \"))\n",
        "    kimya_notu = int(input(\"Kimya notunu girin: \"))\n",
        "\n",
        "    ogrenciler[isim] = {\n",
        "        \"Matematik\": matematik_notu,\n",
        "        \"Fizik\": fizik_notu,\n",
        "        \"Kimya\": kimya_notu\n",
        "    }\n",
        "    print(f\"{isim} isimli öğrenci başarıyla eklendi.\")\n",
        "\n",
        "else:\n",
        "    print(\"Geçersiz işlem.\")\n"
      ],
      "metadata": {
        "colab": {
          "base_uri": "https://localhost:8080/"
        },
        "id": "yKCvv3-rgUZZ",
        "outputId": "5cf080e9-1a80-45b7-d20d-97771b6d0e37"
      },
      "execution_count": 20,
      "outputs": [
        {
          "output_type": "stream",
          "name": "stdout",
          "text": [
            "Yapmak istediğiniz işlemi seçin:\n",
            "1. Öğrencinin ders notlarını öğren\n",
            "2. Öğrencinin ders notlarını güncelle\n",
            "3. Yeni öğrenci ekle\n",
            "Seçiminizi yapın (1/2/3): 2\n",
            "Öğrencinin ismini girin: Beyza\n",
            "Hangi dersin notunu güncellemek istersiniz? (Matematik/Fizik/Kimya): Kimya\n",
            "Kimya dersinin yeni notunu girin: 96\n",
            "Beyza öğrencisinin Kimya notu başarıyla güncellendi: 96\n"
          ]
        }
      ]
    }
  ]
}