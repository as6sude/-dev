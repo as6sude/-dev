{
  "nbformat": 4,
  "nbformat_minor": 0,
  "metadata": {
    "colab": {
      "provenance": []
    },
    "kernelspec": {
      "name": "python3",
      "display_name": "Python 3"
    },
    "language_info": {
      "name": "python"
    }
  },
  "cells": [
    {
      "cell_type": "markdown",
      "source": [
        "\n",
        "\n",
        ">1\n",
        "\n"
      ],
      "metadata": {
        "id": "H-inOFCZDJ8c"
      }
    },
    {
      "cell_type": "code",
      "source": [
        "maaş=int(input(\"maaş\"))\n",
        "\n",
        "if maaş<=10000:\n",
        " kesintili_maaş=maaş*0.95\n",
        "elif 10000<maaş<=25000:\n",
        " kesintili_maaş=maaş*0.90\n",
        "elif 25000<maaş<=45000:\n",
        " kesintili_maaş=maaş*0.75\n",
        "else :\n",
        "  kesintili_maaş=maaş*0.70\n",
        "  print(\"kesintili maaş:\",kesintili_maaş)"
      ],
      "metadata": {
        "colab": {
          "base_uri": "https://localhost:8080/"
        },
        "id": "0ldt4jkoDM68",
        "outputId": "cda17ae7-ce55-4af5-a991-8f6d072cbca0"
      },
      "execution_count": 11,
      "outputs": [
        {
          "output_type": "stream",
          "name": "stdout",
          "text": [
            "maaş58000\n",
            "kesintili maaş: 40600.0\n"
          ]
        }
      ]
    },
    {
      "cell_type": "markdown",
      "source": [
        "2."
      ],
      "metadata": {
        "id": "3Dj8P4FHGZBW"
      }
    },
    {
      "cell_type": "code",
      "source": [
        "kullanici_adi = input(\"Kullanıcı adınızı girin: \")\n",
        "sifre = input(\"Şifrenizi oluşturun: \")\n",
        "\n",
        "if len(sifre) >= 6:\n",
        "    print(\"Hesabınız oluşturuldu.\")\n",
        "else:\n",
        "    print(\"Lütfen en az 6 haneli bir şifre oluşturun.\")"
      ],
      "metadata": {
        "colab": {
          "base_uri": "https://localhost:8080/"
        },
        "id": "v4EWG7wKGafu",
        "outputId": "09497449-fa30-4248-db98-22b9b84ae128"
      },
      "execution_count": 12,
      "outputs": [
        {
          "output_type": "stream",
          "name": "stdout",
          "text": [
            "Kullanıcı adınızı girin: asude\n",
            "Şifrenizi oluşturun: 556654455\n",
            "Hesabınız oluşturuldu.\n"
          ]
        }
      ]
    },
    {
      "cell_type": "markdown",
      "source": [
        "3"
      ],
      "metadata": {
        "id": "l0aP9QdsGsMl"
      }
    },
    {
      "cell_type": "code",
      "source": [
        "kullanici_adi = input(\"Kullanıcı adınızı girin: \")\n",
        "\n",
        "while True:\n",
        "    sifre = input(\"Şifrenizi oluşturun (5 ile 10 karakter arasında): \")\n",
        "    if 5 <= len(sifre) <= 10:\n",
        "        print(\"Hesabınız oluşturuldu.\")\n",
        "        break\n",
        "    else:\n",
        "        print(\"Lütfen girdiniz şifre 5 ve 10 hane arasında olsun!\")"
      ],
      "metadata": {
        "colab": {
          "base_uri": "https://localhost:8080/"
        },
        "id": "RZDmZMroGue6",
        "outputId": "2b3d810d-2ad4-4368-b605-ea589499e67c"
      },
      "execution_count": 15,
      "outputs": [
        {
          "output_type": "stream",
          "name": "stdout",
          "text": [
            "Kullanıcı adınızı girin: beylem\n",
            "Şifrenizi oluşturun (5 ile 10 karakter arasında): 5666666666666666\n",
            "Lütfen girdiniz şifre 5 ve 10 hane arasında olsun!\n",
            "Şifrenizi oluşturun (5 ile 10 karakter arasında): 566666666666\n",
            "Lütfen girdiniz şifre 5 ve 10 hane arasında olsun!\n",
            "Şifrenizi oluşturun (5 ile 10 karakter arasında): 66666666666666666\n",
            "Lütfen girdiniz şifre 5 ve 10 hane arasında olsun!\n",
            "Şifrenizi oluşturun (5 ile 10 karakter arasında): 666666666666\n",
            "Lütfen girdiniz şifre 5 ve 10 hane arasında olsun!\n",
            "Şifrenizi oluşturun (5 ile 10 karakter arasında): 6666666666666\n",
            "Lütfen girdiniz şifre 5 ve 10 hane arasında olsun!\n",
            "Şifrenizi oluşturun (5 ile 10 karakter arasında): 4651552\n",
            "Hesabınız oluşturuldu.\n"
          ]
        }
      ]
    },
    {
      "cell_type": "markdown",
      "source": [
        "4"
      ],
      "metadata": {
        "id": "Kpxf7U50HJNW"
      }
    },
    {
      "cell_type": "code",
      "source": [
        "dogru_sifre = \"655523\"\n",
        "isim = input(\"İsminizi girin: \")\n",
        "hak = 3\n",
        "\n",
        "while hak > 0:\n",
        "    sifre = input(\"Şifrenizi girin: \")\n",
        "    if sifre == dogru_sifre:\n",
        "        print(\"Giriş yapıldı.\")\n",
        "        break\n",
        "    else:\n",
        "        hak -= 1\n",
        "        print(\"Yanlış şifre girildi!\")\n",
        "        if hak > 0:\n",
        "            print(\"Kalan hak:\", hak)\n",
        "        else:\n",
        "            print(\"3 yanlış deneme yaptınız. Program kapanıyor.\")\n"
      ],
      "metadata": {
        "colab": {
          "base_uri": "https://localhost:8080/"
        },
        "id": "MuaHN3TyHKM2",
        "outputId": "0c0a0508-f82a-4b20-c96b-d9bdbc5fb3cd"
      },
      "execution_count": 16,
      "outputs": [
        {
          "output_type": "stream",
          "name": "stdout",
          "text": [
            "İsminizi girin: deniz\n",
            "Şifrenizi girin: 2665\n",
            "Yanlış şifre girildi!\n",
            "Kalan hak: 2\n",
            "Şifrenizi girin: 65+5\n",
            "Yanlış şifre girildi!\n",
            "Kalan hak: 1\n",
            "Şifrenizi girin: 655523\n",
            "Giriş yapıldı.\n"
          ]
        }
      ]
    }
  ]
}