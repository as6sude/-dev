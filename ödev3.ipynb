{
  "nbformat": 4,
  "nbformat_minor": 0,
  "metadata": {
    "colab": {
      "provenance": []
    },
    "kernelspec": {
      "name": "python3",
      "display_name": "Python 3"
    },
    "language_info": {
      "name": "python"
    }
  },
  "cells": [
    {
      "cell_type": "markdown",
      "source": [
        "1"
      ],
      "metadata": {
        "id": "SGMQ8OxXKzWN"
      }
    },
    {
      "cell_type": "code",
      "execution_count": 2,
      "metadata": {
        "id": "h44By7a3KOto"
      },
      "outputs": [],
      "source": [
        "import math\n",
        "def daire_alanı(pi, yaricap):\n",
        "    alan = pi * (yaricap ** 2)\n",
        "    return alan\n"
      ]
    },
    {
      "cell_type": "code",
      "source": [
        "pi = float(input(\"Pi değerini girin: \"))\n",
        "yaricap = float(input(\"Yarıçapı girin: \"))\n",
        "print(\"Dairenin Alanı:\", daire_alanı(pi, yaricap))\n"
      ],
      "metadata": {
        "colab": {
          "base_uri": "https://localhost:8080/"
        },
        "id": "XqWSsbViKiHP",
        "outputId": "a04259bf-a46a-47ec-c2ec-201e42b73bef"
      },
      "execution_count": 6,
      "outputs": [
        {
          "output_type": "stream",
          "name": "stdout",
          "text": [
            "Pi değerini girin: 3\n",
            "Yarıçapı girin: 2\n",
            "Dairenin Alanı: 12.0\n"
          ]
        }
      ]
    },
    {
      "cell_type": "markdown",
      "source": [
        "2\n"
      ],
      "metadata": {
        "id": "jjURSrb9K1AW"
      }
    },
    {
      "cell_type": "code",
      "source": [
        "def faktoriyel(n):\n",
        "    if n < 0:\n",
        "        return \"Negatif sayının faktöriyelini alamazsınız!\"\n",
        "    result = 1\n",
        "    for i in range(1, n + 1):\n",
        "        result *= i\n",
        "    return result"
      ],
      "metadata": {
        "id": "j5sFfj2WOcWf"
      },
      "execution_count": 32,
      "outputs": []
    },
    {
      "cell_type": "code",
      "source": [
        "sayi = int(input(\"Faktöriyelini hesaplamak için bir sayı girin: \"))\n",
        "sonuc = faktoriyel(sayi)\n",
        "print(\"Faktöriyel({}) = {}\".format(sayi, sonuc))"
      ],
      "metadata": {
        "colab": {
          "base_uri": "https://localhost:8080/"
        },
        "id": "WexqOc0aOlx3",
        "outputId": "bfe3f4fe-e22a-4a29-8a11-ce0044dbb86e"
      },
      "execution_count": 33,
      "outputs": [
        {
          "output_type": "stream",
          "name": "stdout",
          "text": [
            "Faktöriyelini hesaplamak için bir sayı girin: -6\n",
            "Faktöriyel(-6) = Negatif sayının faktöriyelini alamazsınız!\n"
          ]
        }
      ]
    },
    {
      "cell_type": "markdown",
      "source": [
        "3"
      ],
      "metadata": {
        "id": "kUr9JLNuOc0s"
      }
    },
    {
      "cell_type": "code",
      "source": [
        "import datetime\n",
        "def yaş_hesapla(dogdugun_yıl):\n",
        "    bugünün_tarihi = datetime.datetime.now()\n",
        "    yaş= bugünün_tarihi.year - dogdugun_yıl\n",
        "    return yaş"
      ],
      "metadata": {
        "id": "X0Oh6igGMjht"
      },
      "execution_count": 29,
      "outputs": []
    },
    {
      "cell_type": "code",
      "source": [
        "def emeklilik_durumu(isim, dogdugun_yıl):\n",
        "    yaş= yaş_hesapla(dogdugun_yıl)\n",
        "\n",
        "    if yaş >= 65:\n",
        "        print(f\"{isim} emekli oldunuz.\")\n",
        "    else:\n",
        "        kalan_yil = 65 - yaş\n",
        "        print(f\"{isim} emekliliğine {kalan_yil} yıl kaldı.\")"
      ],
      "metadata": {
        "id": "_07J57mOLTRX"
      },
      "execution_count": 30,
      "outputs": []
    },
    {
      "cell_type": "code",
      "source": [
        "dogdugun_yil = int(input(\"Doğum yılınızı girin: \"))\n",
        "isim = input(\"Adınızı girin: \")\n",
        "\n",
        "print(\"Yaşınız:\", yaş_hesapla(dogdugun_yil))\n",
        "emeklilik_durumu(isim, dogdugun_yil)"
      ],
      "metadata": {
        "colab": {
          "base_uri": "https://localhost:8080/"
        },
        "id": "XuzZqRHJNBNe",
        "outputId": "6c310ab0-b0f7-41e0-de2f-5cc4902efc8c"
      },
      "execution_count": 31,
      "outputs": [
        {
          "output_type": "stream",
          "name": "stdout",
          "text": [
            "Doğum yılınızı girin: 2000\n",
            "Adınızı girin: sude\n",
            "Yaşınız: 25\n",
            "sude emekliliğine 40 yıl kaldı.\n"
          ]
        }
      ]
    }
  ]
}